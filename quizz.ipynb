{
 "cells": [
  {
   "cell_type": "code",
   "execution_count": 8,
   "metadata": {},
   "outputs": [],
   "source": [
    "\n",
    "def game():\n",
    "\n",
    "    print(\"Welcome to our quizz!\\n\")\n",
    "    print(\"------\\n\")\n",
    "\n",
    "    quizz = [\n",
    "        (\"What is the color of the white horse of Henri IV?\", \"white\"),\n",
    "        (\"What is 5-2?\", \"3\"),\n",
    "        (\"What is love?\", \"baby don't hurt me\")\n",
    "    ]\n",
    "\n",
    "    answer = \"\"\n",
    "    nb_errors = 0\n",
    "\n",
    "    for index, question in enumerate(quizz):\n",
    "        while answer!= question[1]:\n",
    "            if nb_errors == 3:\n",
    "                print(\"Too bad, you lost the game! Try again\")\n",
    "                return \n",
    "\n",
    "            print(f\"Question {index+1}:\\n\")\n",
    "            print(f\"{question[0]}\\n\")\n",
    "            answer = str(input(\"Enter your answer\")).lower()\n",
    "            print(f\"Your answer: {answer}\")\n",
    "\n",
    "            if answer != question[1]:                \n",
    "                nb_errors +=1\n",
    "                print(\"Too bad! That is not the correct answer\\n\")\n",
    "                print(f\"Chances left : {3-nb_errors}\\n\")\n",
    "        \n",
    "        print(\"Good job! This is the right answer\\n\")\n",
    "    \n",
    "    print(\"Nice! you won the game\")\n"
   ]
  },
  {
   "cell_type": "code",
   "execution_count": null,
   "metadata": {},
   "outputs": [],
   "source": [
    "game()"
   ]
  },
  {
   "cell_type": "code",
   "execution_count": null,
   "metadata": {},
   "outputs": [],
   "source": []
  }
 ],
 "metadata": {
  "kernelspec": {
   "display_name": "Python 3",
   "language": "python",
   "name": "python3"
  },
  "language_info": {
   "codemirror_mode": {
    "name": "ipython",
    "version": 3
   },
   "file_extension": ".py",
   "mimetype": "text/x-python",
   "name": "python",
   "nbconvert_exporter": "python",
   "pygments_lexer": "ipython3",
   "version": "3.12.3"
  }
 },
 "nbformat": 4,
 "nbformat_minor": 2
}
